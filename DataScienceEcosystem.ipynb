{
 "cells": [
  {
   "cell_type": "markdown",
   "id": "d8ec383c",
   "metadata": {},
   "source": [
    "# Data Science Tools and Ecosystem"
   ]
  },
  {
   "cell_type": "markdown",
   "id": "ca7b0087",
   "metadata": {},
   "source": [
    "In this notebook, Data Science Tools and Ecosystem are summarized."
   ]
  },
  {
   "cell_type": "markdown",
   "id": "1df44c35",
   "metadata": {},
   "source": [
    "Some of the popular languages that Data Scientists use are:\n",
    "\n",
    "1. Python\n",
    "2. R\n",
    "3. Java\n",
    "4. Scala\n",
    "5. Javascript"
   ]
  },
  {
   "cell_type": "markdown",
   "id": "fd7506f8",
   "metadata": {},
   "source": [
    "Some of the commonly used libraries used by Data Scientists include:\n",
    "1. NumPy & Matplotlib\n",
    "2. Dplyr & Ggplot\n",
    "3. DL4J\n",
    "4. Breeze & Smile\n",
    "5. Brain.js & D3.js"
   ]
  },
  {
   "cell_type": "markdown",
   "id": "7de7a79c",
   "metadata": {},
   "source": [
    "| Data Science Tools |\n",
    "|--------------------|\n",
    "| Jupyter |\n",
    "| Apache Spark |\n",
    "| Anaconda |"
   ]
  },
  {
   "cell_type": "markdown",
   "id": "4283f7e1",
   "metadata": {},
   "source": [
    "### Below are a few examples of evaluating arithmetic expressions in Python."
   ]
  },
  {
   "cell_type": "code",
   "execution_count": 1,
   "id": "cdbd0056",
   "metadata": {},
   "outputs": [
    {
     "data": {
      "text/plain": [
       "17"
      ]
     },
     "execution_count": 1,
     "metadata": {},
     "output_type": "execute_result"
    }
   ],
   "source": [
    "# This a simple arithmetic expression to mutiply then add integers\n",
    "(3 * 4) + 5"
   ]
  },
  {
   "cell_type": "code",
   "execution_count": 2,
   "id": "f7e4b642",
   "metadata": {},
   "outputs": [
    {
     "data": {
      "text/plain": [
       "3.3333333333333335"
      ]
     },
     "execution_count": 2,
     "metadata": {},
     "output_type": "execute_result"
    }
   ],
   "source": [
    "# This will convert 200 minutes to hours by diving by 60\n",
    "200 / 60"
   ]
  },
  {
   "cell_type": "markdown",
   "id": "76adf42f",
   "metadata": {},
   "source": [
    "**Objectives:**\n",
    "* List popular languages for data science\n",
    "* List popular libraries for data science\n",
    "* List commonly used tools for DS\n",
    "* Demonstrate the ability of Jupyter to execute code via kernels"
   ]
  },
  {
   "cell_type": "markdown",
   "id": "ac209d0e",
   "metadata": {},
   "source": [
    "## Author\n",
    "Ruslan"
   ]
  },
  {
   "cell_type": "code",
   "execution_count": null,
   "id": "f590b192",
   "metadata": {},
   "outputs": [],
   "source": []
  }
 ],
 "metadata": {
  "kernelspec": {
   "display_name": "Python 3 (ipykernel)",
   "language": "python",
   "name": "python3"
  },
  "language_info": {
   "codemirror_mode": {
    "name": "ipython",
    "version": 3
   },
   "file_extension": ".py",
   "mimetype": "text/x-python",
   "name": "python",
   "nbconvert_exporter": "python",
   "pygments_lexer": "ipython3",
   "version": "3.8.2"
  }
 },
 "nbformat": 4,
 "nbformat_minor": 5
}
